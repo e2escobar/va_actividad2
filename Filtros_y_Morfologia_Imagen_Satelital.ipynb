{
 "cells": [
  {
   "cell_type": "markdown",
   "id": "9a3b6aea",
   "metadata": {},
   "source": [
    "# Análisis de Filtros Espaciales y Operaciones Morfológicas sobre Imagen Satelital"
   ]
  },
  {
   "cell_type": "code",
   "execution_count": null,
   "id": "c8bfbfda",
   "metadata": {},
   "outputs": [],
   "source": [
    "\n",
    "import cv2\n",
    "import numpy as np\n",
    "import matplotlib.pyplot as plt\n",
    "\n",
    "# Función para mostrar múltiples imágenes\n",
    "def show_images(images, titles, cols=4, figsize=(20, 12)):\n",
    "    rows = (len(images) + cols - 1) // cols\n",
    "    fig, axs = plt.subplots(rows, cols, figsize=figsize)\n",
    "    axs = axs.flatten()\n",
    "    for i in range(len(images)):\n",
    "        axs[i].imshow(images[i], cmap='gray')\n",
    "        axs[i].set_title(titles[i])\n",
    "        axs[i].axis('off')\n",
    "    for i in range(len(images), len(axs)):\n",
    "        axs[i].axis('off')\n",
    "    plt.tight_layout()\n",
    "    plt.show()    \n"
   ]
  },
  {
   "cell_type": "code",
   "execution_count": 3,
   "id": "aa179014",
   "metadata": {},
   "outputs": [
    {
     "name": "stdout",
     "output_type": "stream",
     "text": [
      "Se encontraron 4 imágenes\n"
     ]
    }
   ],
   "source": [
    "\n",
    "import os\n",
    "import glob\n",
    "\n",
    "# Directorio donde se encuentran las imágenes\n",
    "image_dir = \"./images\"\n",
    "\n",
    "# Obtener todas las rutas de imágenes con extensiones comunes\n",
    "image_extensions = ['*.jpg', '*.jpeg', '*.png', '*.tif', '*.tiff']\n",
    "image_paths = []\n",
    "\n",
    "for ext in image_extensions:\n",
    "    image_paths.extend(glob.glob(os.path.join(image_dir, ext)))\n",
    "\n",
    "print(f\"Se encontraron {len(image_paths)} imágenes\")\n",
    "# Procesar todas las imágenes\n",
    "processed_images = []\n",
    "for path in image_paths:\n",
    "    img = cv2.imread(path, cv2.IMREAD_GRAYSCALE)\n",
    "    if img is not None:\n",
    "        processed_images.append(img)\n",
    "\n"
   ]
  },
  {
   "cell_type": "code",
   "execution_count": null,
   "id": "7bed3785",
   "metadata": {},
   "outputs": [],
   "source": [
    "\n",
    "# Aplica filtros espaciales a una lista de imágenes\n",
    "def applySpatialFilter(images) -> dict:\n",
    "  results = dict()\n",
    "  spatial_results = []\n",
    "  for image in images:\n",
    "      results['blur'] = cv2.blur(image, (5, 5))\n",
    "      results['gaussian'] = cv2.GaussianBlur(image, (5, 5), 0)\n",
    "      results['median'] = cv2.medianBlur(image, 5)\n",
    "      results['laplacian'] = cv2.Laplacian(image, cv2.CV_64F)\n",
    "      results['sobel_x'] = cv2.Sobel(image, cv2.CV_64F, 1, 0, ksize=3)\n",
    "      results['sobel_y'] = cv2.Sobel(image, cv2.CV_64F, 0, 1, ksize=3)\n",
    "      results['sobel_mag'] = cv2.magnitude(results['sobel_x'], results['sobel_y'])\n",
    "      results['canny'] = cv2.Canny(image, 100, 200)\n",
    "      spatial_results.append(results)\n",
    "  return spatial_results\n",
    "\n",
    "\n",
    "\n",
    "\n"
   ]
  },
  {
   "cell_type": "code",
   "execution_count": null,
   "id": "62c0e805",
   "metadata": {},
   "outputs": [],
   "source": [
    "\n",
    "def applyMorphologicalFilter(images) -> dict:\n",
    "  results = dict()\n",
    "  morphological_results = []\n",
    "  for image in images:\n",
    "    kernel = np.ones((5,5),np.uint8)\n",
    "    results['erosion'] = cv2.erode(image, kernel, iterations=1)\n",
    "    results['dilation'] = cv2.dilate(image, kernel, iterations=1)\n",
    "    results['opening'] = cv2.morphologyEx(image, cv2.MORPH_OPEN, kernel)\n",
    "    results['closing'] = cv2.morphologyEx(image, cv2.MORPH_CLOSE, kernel)\n",
    "    morphological_results.append(results)\n",
    "  return morphological_results\n",
    "\n"
   ]
  },
  {
   "cell_type": "code",
   "execution_count": null,
   "id": "f58f9f17",
   "metadata": {},
   "outputs": [],
   "source": [
    "\n",
    "# Visualización de resultados\n",
    "\n",
    "spatial_images = [\n",
    "    spatial_results[0],\n",
    "    for result in spatial_results:\n",
    "        result['blur'],\n",
    "        \n",
    "]\n",
    "titles = [\n",
    "    \"Original\", \"Filtro de Media\", \"Filtro Gaussiano\", \"Filtro de Mediana\",\n",
    "    \"Laplaciano\", \"Sobel X\", \"Sobel Y\", \"Sobel Magnitud\",\n",
    "    \"Erosión\", \"Dilatación\", \"Apertura\", \"Clausura\"\n",
    "]\n",
    "\n",
    "show_images(images, titles)\n"
   ]
  }
 ],
 "metadata": {
  "kernelspec": {
   "display_name": "AV_ENV",
   "language": "python",
   "name": "python3"
  },
  "language_info": {
   "codemirror_mode": {
    "name": "ipython",
    "version": 3
   },
   "file_extension": ".py",
   "mimetype": "text/x-python",
   "name": "python",
   "nbconvert_exporter": "python",
   "pygments_lexer": "ipython3",
   "version": "3.11.11"
  }
 },
 "nbformat": 4,
 "nbformat_minor": 5
}
